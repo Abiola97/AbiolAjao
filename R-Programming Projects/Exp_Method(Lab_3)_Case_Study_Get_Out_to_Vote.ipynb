{
  "nbformat": 4,
  "nbformat_minor": 0,
  "metadata": {
    "colab": {
      "provenance": [],
      "authorship_tag": "ABX9TyOqxdqjcLFe1PgVhevno6rf",
      "include_colab_link": true
    },
    "kernelspec": {
      "name": "ir",
      "display_name": "R"
    },
    "language_info": {
      "name": "R"
    }
  },
  "cells": [
    {
      "cell_type": "markdown",
      "metadata": {
        "id": "view-in-github",
        "colab_type": "text"
      },
      "source": [
        "<a href=\"https://colab.research.google.com/github/Abiola97/ajaoabiola0812/blob/main/Exp_Method(Lab_3)_Case_Study_Get_Out_to_Vote.ipynb\" target=\"_parent\"><img src=\"https://colab.research.google.com/assets/colab-badge.svg\" alt=\"Open In Colab\"/></a>"
      ]
    },
    {
      "cell_type": "markdown",
      "source": [
        "## **Loading Necessary Packages for data manipulation, visualization and matching methods**"
      ],
      "metadata": {
        "id": "Vg6jlInFcB3R"
      }
    },
    {
      "cell_type": "code",
      "execution_count": null,
      "metadata": {
        "colab": {
          "base_uri": "https://localhost:8080/"
        },
        "id": "1nw2X2l0Z6pd",
        "outputId": "a889d9d5-c4b3-404b-910e-9ff0d8affc5f"
      },
      "outputs": [
        {
          "output_type": "stream",
          "name": "stderr",
          "text": [
            "Installing package into ‘/usr/local/lib/R/site-library’\n",
            "(as ‘lib’ is unspecified)\n",
            "\n",
            "Installing package into ‘/usr/local/lib/R/site-library’\n",
            "(as ‘lib’ is unspecified)\n",
            "\n",
            "Installing package into ‘/usr/local/lib/R/site-library’\n",
            "(as ‘lib’ is unspecified)\n",
            "\n",
            "also installing the dependencies ‘chk’, ‘RcppProgress’\n",
            "\n",
            "\n",
            "\n",
            "Attaching package: ‘dplyr’\n",
            "\n",
            "\n",
            "The following objects are masked from ‘package:stats’:\n",
            "\n",
            "    filter, lag\n",
            "\n",
            "\n",
            "The following objects are masked from ‘package:base’:\n",
            "\n",
            "    intersect, setdiff, setequal, union\n",
            "\n",
            "\n"
          ]
        }
      ],
      "source": [
        "install.packages(\"dplyr\")    # For data manipulation\n",
        "install.packages(\"ggplot2\")   # For visualization\n",
        "install.packages(\"MatchIt\")    # For matching methods\n",
        "\n",
        "# Loading relevant packages\n",
        "library(dplyr)      # For data manipulation\n",
        "library(ggplot2)    # For creating visualizations\n",
        "library(MatchIt)    # For matching methods\n",
        "\n",
        "# Set a seed for reproducibility (so we all get the same results)\n",
        "set.seed(123)"
      ]
    },
    {
      "cell_type": "markdown",
      "source": [
        "**IMPORTING AND LOADING DATASET FOR PREPROCESSING AND MANIPULATION**"
      ],
      "metadata": {
        "id": "NOisACPUewM1"
      }
    },
    {
      "cell_type": "code",
      "source": [
        "vote_data <- read.csv('/content/Updated_Synthetic_Voting_Dataset.csv')\n",
        "head(vote_data)\n",
        "str(vote_data)\n",
        "summary(vote_data)"
      ],
      "metadata": {
        "colab": {
          "base_uri": "https://localhost:8080/",
          "height": 686
        },
        "id": "EUADQo87e62T",
        "outputId": "1f97dd19-52f3-4f73-90f1-4ed11259b960"
      },
      "execution_count": null,
      "outputs": [
        {
          "output_type": "display_data",
          "data": {
            "text/html": [
              "<table class=\"dataframe\">\n",
              "<caption>A data.frame: 6 × 8</caption>\n",
              "<thead>\n",
              "\t<tr><th></th><th scope=col>VOTED98</th><th scope=col>phone</th><th scope=col>VOTE96</th><th scope=col>AGE</th><th scope=col>MAJORPTY</th><th scope=col>NEW</th><th scope=col>EDUCATION</th><th scope=col>INCOME</th></tr>\n",
              "\t<tr><th></th><th scope=col>&lt;int&gt;</th><th scope=col>&lt;int&gt;</th><th scope=col>&lt;int&gt;</th><th scope=col>&lt;int&gt;</th><th scope=col>&lt;chr&gt;</th><th scope=col>&lt;int&gt;</th><th scope=col>&lt;int&gt;</th><th scope=col>&lt;int&gt;</th></tr>\n",
              "</thead>\n",
              "<tbody>\n",
              "\t<tr><th scope=row>1</th><td>1</td><td>0</td><td>0</td><td>24</td><td>Republican </td><td>1</td><td>5</td><td>3</td></tr>\n",
              "\t<tr><th scope=row>2</th><td>1</td><td>1</td><td>1</td><td>52</td><td>Republican </td><td>0</td><td>4</td><td>2</td></tr>\n",
              "\t<tr><th scope=row>3</th><td>1</td><td>1</td><td>1</td><td>72</td><td>Republican </td><td>1</td><td>2</td><td>2</td></tr>\n",
              "\t<tr><th scope=row>4</th><td>1</td><td>1</td><td>1</td><td>31</td><td>Democrat   </td><td>0</td><td>2</td><td>1</td></tr>\n",
              "\t<tr><th scope=row>5</th><td>1</td><td>0</td><td>1</td><td>27</td><td>Independent</td><td>0</td><td>2</td><td>1</td></tr>\n",
              "\t<tr><th scope=row>6</th><td>1</td><td>0</td><td>1</td><td>33</td><td>Democrat   </td><td>0</td><td>4</td><td>5</td></tr>\n",
              "</tbody>\n",
              "</table>\n"
            ],
            "text/markdown": "\nA data.frame: 6 × 8\n\n| <!--/--> | VOTED98 &lt;int&gt; | phone &lt;int&gt; | VOTE96 &lt;int&gt; | AGE &lt;int&gt; | MAJORPTY &lt;chr&gt; | NEW &lt;int&gt; | EDUCATION &lt;int&gt; | INCOME &lt;int&gt; |\n|---|---|---|---|---|---|---|---|---|\n| 1 | 1 | 0 | 0 | 24 | Republican  | 1 | 5 | 3 |\n| 2 | 1 | 1 | 1 | 52 | Republican  | 0 | 4 | 2 |\n| 3 | 1 | 1 | 1 | 72 | Republican  | 1 | 2 | 2 |\n| 4 | 1 | 1 | 1 | 31 | Democrat    | 0 | 2 | 1 |\n| 5 | 1 | 0 | 1 | 27 | Independent | 0 | 2 | 1 |\n| 6 | 1 | 0 | 1 | 33 | Democrat    | 0 | 4 | 5 |\n\n",
            "text/latex": "A data.frame: 6 × 8\n\\begin{tabular}{r|llllllll}\n  & VOTED98 & phone & VOTE96 & AGE & MAJORPTY & NEW & EDUCATION & INCOME\\\\\n  & <int> & <int> & <int> & <int> & <chr> & <int> & <int> & <int>\\\\\n\\hline\n\t1 & 1 & 0 & 0 & 24 & Republican  & 1 & 5 & 3\\\\\n\t2 & 1 & 1 & 1 & 52 & Republican  & 0 & 4 & 2\\\\\n\t3 & 1 & 1 & 1 & 72 & Republican  & 1 & 2 & 2\\\\\n\t4 & 1 & 1 & 1 & 31 & Democrat    & 0 & 2 & 1\\\\\n\t5 & 1 & 0 & 1 & 27 & Independent & 0 & 2 & 1\\\\\n\t6 & 1 & 0 & 1 & 33 & Democrat    & 0 & 4 & 5\\\\\n\\end{tabular}\n",
            "text/plain": [
              "  VOTED98 phone VOTE96 AGE MAJORPTY    NEW EDUCATION INCOME\n",
              "1 1       0     0      24  Republican  1   5         3     \n",
              "2 1       1     1      52  Republican  0   4         2     \n",
              "3 1       1     1      72  Republican  1   2         2     \n",
              "4 1       1     1      31  Democrat    0   2         1     \n",
              "5 1       0     1      27  Independent 0   2         1     \n",
              "6 1       0     1      33  Democrat    0   4         5     "
            ]
          },
          "metadata": {}
        },
        {
          "output_type": "stream",
          "name": "stdout",
          "text": [
            "'data.frame':\t1000 obs. of  8 variables:\n",
            " $ VOTED98  : int  1 1 1 1 1 1 1 1 1 1 ...\n",
            " $ phone    : int  0 1 1 1 0 0 0 1 1 1 ...\n",
            " $ VOTE96   : int  0 1 1 1 1 1 1 1 0 0 ...\n",
            " $ AGE      : int  24 52 72 31 27 33 71 87 61 90 ...\n",
            " $ MAJORPTY : chr  \"Republican\" \"Republican\" \"Republican\" \"Democrat\" ...\n",
            " $ NEW      : int  1 0 1 0 0 0 0 0 0 0 ...\n",
            " $ EDUCATION: int  5 4 2 2 2 4 5 4 1 1 ...\n",
            " $ INCOME   : int  3 2 2 1 1 5 3 1 2 2 ...\n"
          ]
        },
        {
          "output_type": "display_data",
          "data": {
            "text/plain": [
              "    VOTED98          phone           VOTE96           AGE       \n",
              " Min.   :0.000   Min.   :0.000   Min.   :0.000   Min.   :18.00  \n",
              " 1st Qu.:1.000   1st Qu.:0.000   1st Qu.:0.000   1st Qu.:36.00  \n",
              " Median :1.000   Median :0.000   Median :1.000   Median :54.00  \n",
              " Mean   :0.844   Mean   :0.497   Mean   :0.516   Mean   :54.17  \n",
              " 3rd Qu.:1.000   3rd Qu.:1.000   3rd Qu.:1.000   3rd Qu.:71.00  \n",
              " Max.   :1.000   Max.   :1.000   Max.   :1.000   Max.   :90.00  \n",
              "   MAJORPTY              NEW          EDUCATION         INCOME     \n",
              " Length:1000        Min.   :0.000   Min.   :1.000   Min.   :1.000  \n",
              " Class :character   1st Qu.:0.000   1st Qu.:2.000   1st Qu.:2.000  \n",
              " Mode  :character   Median :0.000   Median :3.000   Median :3.000  \n",
              "                    Mean   :0.291   Mean   :3.035   Mean   :2.945  \n",
              "                    3rd Qu.:1.000   3rd Qu.:4.000   3rd Qu.:4.000  \n",
              "                    Max.   :1.000   Max.   :5.000   Max.   :5.000  "
            ]
          },
          "metadata": {}
        }
      ]
    },
    {
      "cell_type": "markdown",
      "source": [
        "## **Initial Data Exploration**"
      ],
      "metadata": {
        "id": "nb-prsPOgcyj"
      }
    },
    {
      "cell_type": "code",
      "source": [
        "table(vote_data$phone)  #How many Phone Calls\n",
        "mean(vote_data$phone) * 100  #percentage of recieved phone calls\n",
        "mean(vote_data$VOTED98) * 100 #percentage of voters in 1998 election\n",
        "round(mean(vote_data$VOTED98[vote_data$phone == 1]),4) * 100 #percentage of voters in 1998 election who received phone calls\n",
        "round(mean(vote_data$VOTED98[vote_data$phone == 0]),4) * 100 #percentage of voters in 1998 election who didnt receive phone calls"
      ],
      "metadata": {
        "colab": {
          "base_uri": "https://localhost:8080/",
          "height": 139
        },
        "id": "Fw833hBlhRYb",
        "outputId": "8fe04cb6-7644-4b79-ffe3-5c90e94c11bf"
      },
      "execution_count": null,
      "outputs": [
        {
          "output_type": "display_data",
          "data": {
            "text/plain": [
              "\n",
              "  0   1 \n",
              "503 497 "
            ]
          },
          "metadata": {}
        },
        {
          "output_type": "display_data",
          "data": {
            "text/html": [
              "49.7"
            ],
            "text/markdown": "49.7",
            "text/latex": "49.7",
            "text/plain": [
              "[1] 49.7"
            ]
          },
          "metadata": {}
        },
        {
          "output_type": "display_data",
          "data": {
            "text/html": [
              "84.4"
            ],
            "text/markdown": "84.4",
            "text/latex": "84.4",
            "text/plain": [
              "[1] 84.4"
            ]
          },
          "metadata": {}
        },
        {
          "output_type": "display_data",
          "data": {
            "text/html": [
              "90.74"
            ],
            "text/markdown": "90.74",
            "text/latex": "90.74",
            "text/plain": [
              "[1] 90.74"
            ]
          },
          "metadata": {}
        },
        {
          "output_type": "display_data",
          "data": {
            "text/html": [
              "78.13"
            ],
            "text/markdown": "78.13",
            "text/latex": "78.13",
            "text/plain": [
              "[1] 78.13"
            ]
          },
          "metadata": {}
        }
      ]
    },
    {
      "cell_type": "markdown",
      "source": [
        "**From our inital exploration, the phone call intervention tends to increase voters turn out**"
      ],
      "metadata": {
        "id": "kxkpkom8joZZ"
      }
    },
    {
      "cell_type": "markdown",
      "source": [
        "# **Comparing mean of both treatent(received phone call) and Control(not received phone call) using simple Difference technique**"
      ],
      "metadata": {
        "id": "kx6tmqIHkZbg"
      }
    },
    {
      "cell_type": "code",
      "source": [
        "treatment_mean <- print(mean(vote_data$VOTED98[vote_data$phone == 1]))\n",
        "control_mean <- print(mean(vote_data$VOTED98[vote_data$phone == 0]))\n",
        "simple_difference <- print(mean(vote_data$VOTED98[vote_data$phone == 1])-mean(vote_data$VOTED98[vote_data$phone == 0]))\n",
        "#print out the result in percentages\n",
        "cat(\"Voting rate (treatment group):\", round(treatment_mean * 100, 1), \"%\\n\")\n",
        "cat(\"Voting rate (control group):\", round(control_mean * 100, 1), \"%\\n\")\n",
        "cat(\"Simple difference:\", round(simple_difference * 100, 1), \"%\\n\")"
      ],
      "metadata": {
        "colab": {
          "base_uri": "https://localhost:8080/"
        },
        "id": "D_YU-ts-ktKE",
        "outputId": "7665770b-f1f9-4d6f-aad3-68780a5d3236"
      },
      "execution_count": null,
      "outputs": [
        {
          "output_type": "stream",
          "name": "stdout",
          "text": [
            "[1] 0.9074447\n",
            "[1] 0.7813121\n",
            "[1] 0.1261325\n",
            "Voting rate (treatment group): 90.7 %\n",
            "Voting rate (control group): 78.1 %\n",
            "Simple difference: 12.6 %\n"
          ]
        }
      ]
    },
    {
      "cell_type": "markdown",
      "source": [
        "**T-TEST ANALYSIS ON VOTERS AGAINST PHONE CALL STATUS**"
      ],
      "metadata": {
        "id": "6dqTbUy6X5sN"
      }
    },
    {
      "cell_type": "code",
      "source": [
        "t_test_results <- t.test(vote_data$VOTED98 ~ vote_data$phone)\n",
        "print(t_test_results)\n",
        "\n",
        "# Determine statistical significance based on a common alpha level (0.05)\n",
        "alpha <- 0.05\n",
        "\n",
        "if (t_test_results$p.value < alpha) {\n",
        "  print(\"The result is statistically significant.\")\n",
        "} else {\n",
        "  print(\"The result is not statistically significant.\")\n",
        "}"
      ],
      "metadata": {
        "colab": {
          "base_uri": "https://localhost:8080/"
        },
        "id": "nCyNuuXmX_m1",
        "outputId": "6b7e8d41-29ab-47ce-cef7-55071cd17f6f"
      },
      "execution_count": null,
      "outputs": [
        {
          "output_type": "stream",
          "name": "stdout",
          "text": [
            "\n",
            "\tWelch Two Sample t-test\n",
            "\n",
            "data:  vote_data$VOTED98 by vote_data$phone\n",
            "t = -5.5869, df = 900.23, p-value = 3.063e-08\n",
            "alternative hypothesis: true difference in means between group 0 and group 1 is not equal to 0\n",
            "95 percent confidence interval:\n",
            " -0.17044122 -0.08182386\n",
            "sample estimates:\n",
            "mean in group 0 mean in group 1 \n",
            "      0.7813121       0.9074447 \n",
            "\n",
            "[1] \"The result is statistically significant.\"\n"
          ]
        }
      ]
    },
    {
      "cell_type": "markdown",
      "source": [
        "**PAST VOTING DATA-VOTE96 COMPARISON BETWEEN GROUPS**"
      ],
      "metadata": {
        "id": "XEOu3ZuIcxvY"
      }
    },
    {
      "cell_type": "code",
      "source": [
        "past_treatment_mean <- print(mean(vote_data$VOTE96[vote_data$phone == 1]))\n",
        "past_control_mean <- print(mean(vote_data$VOTE96[vote_data$phone == 0]))\n",
        "past_simple_difference <- print(mean(vote_data$VOTE96[vote_data$phone == 1])-mean(vote_data$VOTE96[vote_data$phone == 0]))\n",
        "#print out the result in percentages\n",
        "cat(\"Voting rate (past treatment group):\", round(past_treatment_mean * 100, 1), \"%\\n\")\n",
        "cat(\"Voting rate (past control group):\", round(past_control_mean * 100, 1), \"%\\n\")\n",
        "cat(\"Past Simple difference:\", round(past_simple_difference * 100, 1), \"%\\n\")"
      ],
      "metadata": {
        "colab": {
          "base_uri": "https://localhost:8080/"
        },
        "id": "PYJmuwTPaN5r",
        "outputId": "73e0cdc6-92ea-4391-b42b-f65f24fcd86e"
      },
      "execution_count": null,
      "outputs": [
        {
          "output_type": "stream",
          "name": "stdout",
          "text": [
            "[1] 0.5191147\n",
            "[1] 0.5129225\n",
            "[1] 0.006192223\n",
            "Voting rate (past treatment group): 51.9 %\n",
            "Voting rate (past control group): 51.3 %\n",
            "Past Simple difference: 0.6 %\n"
          ]
        }
      ]
    },
    {
      "cell_type": "code",
      "source": [
        "age_treatment_mean <- print(mean(vote_data$AGE[vote_data$phone == 1]))\n",
        "age_control_mean <- print(mean(vote_data$AGE[vote_data$phone == 0]))\n",
        "age_simple_difference <- print(mean(vote_data$AGE[vote_data$phone == 1])-mean(vote_data$VOTED98[vote_data$phone == 0]))\n",
        "#print out the age of the groups in years\n",
        "cat(\"Average Age (treatment group):\", round(age_treatment_mean, 1), \"years\\n\")\n",
        "cat(\"Average Age (control group):\", round(age_control_mean, 1), \"years\\n\")\n",
        "cat(\"Average Age:\", round(age_simple_difference, 1),  \"years\\n\")\n",
        "#compare party distribution\n",
        "table(vote_data$MAJORPTY,vote_data$phone)"
      ],
      "metadata": {
        "colab": {
          "base_uri": "https://localhost:8080/",
          "height": 208
        },
        "id": "nPlvDk_Yc5JN",
        "outputId": "9ebe9d09-6906-490c-81ed-0d0717c562ce"
      },
      "execution_count": null,
      "outputs": [
        {
          "output_type": "stream",
          "name": "stdout",
          "text": [
            "[1] 53.17907\n",
            "[1] 55.14712\n",
            "[1] 52.39776\n",
            "Average Age (treatment group): 53.2 years\n",
            "Average Age (control group): 55.1 years\n",
            "Average Age: 52.4 years\n"
          ]
        },
        {
          "output_type": "display_data",
          "data": {
            "text/plain": [
              "             \n",
              "                0   1\n",
              "  Democrat    183 187\n",
              "  Independent 102  89\n",
              "  Republican  218 221"
            ]
          },
          "metadata": {}
        }
      ]
    },
    {
      "cell_type": "code",
      "source": [],
      "metadata": {
        "id": "_1-ZAVSIcw4s"
      },
      "execution_count": null,
      "outputs": []
    }
  ]
}
